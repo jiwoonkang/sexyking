{
  "nbformat": 4,
  "nbformat_minor": 0,
  "metadata": {
    "colab": {
      "name": "Untitled10.ipynb",
      "provenance": [],
      "authorship_tag": "ABX9TyOyqTWPVxYiOHfYP+gWI6y5",
      "include_colab_link": true
    },
    "kernelspec": {
      "name": "python3",
      "display_name": "Python 3"
    },
    "language_info": {
      "name": "python"
    }
  },
  "cells": [
    {
      "cell_type": "markdown",
      "metadata": {
        "id": "view-in-github",
        "colab_type": "text"
      },
      "source": [
        "<a href=\"https://colab.research.google.com/github/jiwoonkang/sexyking/blob/main/Untitled10.ipynb\" target=\"_parent\"><img src=\"https://colab.research.google.com/assets/colab-badge.svg\" alt=\"Open In Colab\"/></a>"
      ]
    },
    {
      "cell_type": "code",
      "execution_count": 1,
      "metadata": {
        "id": "2KTYzW2nJHMe"
      },
      "outputs": [],
      "source": [
        "#2022학년도 1학년 1학기 프로그래밍 (파이썬) 수행평가\n",
        "#한양공업고등학교 1학년 a반 1번 강지운\n",
        "\n",
        "#1. 변수 사용하기\n",
        "삼성전자=50000"
      ]
    },
    {
      "cell_type": "code",
      "source": [
        "삼성전자*10"
      ],
      "metadata": {
        "colab": {
          "base_uri": "https://localhost:8080/"
        },
        "id": "5uV1icqUNLE7",
        "outputId": "79db00b6-8c01-42cd-e223-dd4d7557b505"
      },
      "execution_count": 2,
      "outputs": [
        {
          "output_type": "execute_result",
          "data": {
            "text/plain": [
              "500000"
            ]
          },
          "metadata": {},
          "execution_count": 2
        }
      ]
    },
    {
      "cell_type": "code",
      "source": [
        "#2.\n",
        "year=2022"
      ],
      "metadata": {
        "id": "DwNxHrHENRM9"
      },
      "execution_count": 5,
      "outputs": []
    },
    {
      "cell_type": "code",
      "source": [
        "type(year)"
      ],
      "metadata": {
        "colab": {
          "base_uri": "https://localhost:8080/"
        },
        "id": "kaf4jt4cNkKT",
        "outputId": "375e1544-31d5-43a7-a0f7-7af04c142c4c"
      },
      "execution_count": 6,
      "outputs": [
        {
          "output_type": "execute_result",
          "data": {
            "text/plain": [
              "int"
            ]
          },
          "metadata": {},
          "execution_count": 6
        }
      ]
    },
    {
      "cell_type": "code",
      "source": [
        "print(year)"
      ],
      "metadata": {
        "colab": {
          "base_uri": "https://localhost:8080/"
        },
        "id": "WGjIUSNJN71X",
        "outputId": "14257351-be60-4130-8ddc-28e16e0beef7"
      },
      "execution_count": 7,
      "outputs": [
        {
          "output_type": "stream",
          "name": "stdout",
          "text": [
            "2022\n"
          ]
        }
      ]
    },
    {
      "cell_type": "code",
      "source": [
        "print(year,year-1,year-2,)"
      ],
      "metadata": {
        "colab": {
          "base_uri": "https://localhost:8080/"
        },
        "id": "IEaZbh1pOqqh",
        "outputId": "4c961be8-e677-44aa-c0ea-9a2ac98797b4"
      },
      "execution_count": 9,
      "outputs": [
        {
          "output_type": "stream",
          "name": "stdout",
          "text": [
            "2022 2021 2020\n"
          ]
        }
      ]
    },
    {
      "cell_type": "code",
      "source": [
        "#3\n",
        "string=\"홀짝홀짝홀짝\""
      ],
      "metadata": {
        "id": "Q9-YgXf6Oo-1"
      },
      "execution_count": 10,
      "outputs": []
    },
    {
      "cell_type": "code",
      "source": [
        "string[0]"
      ],
      "metadata": {
        "colab": {
          "base_uri": "https://localhost:8080/",
          "height": 35
        },
        "id": "hhY10cIaPLds",
        "outputId": "cc68cfce-d045-4f12-f422-f80da276f7fe"
      },
      "execution_count": 16,
      "outputs": [
        {
          "output_type": "execute_result",
          "data": {
            "text/plain": [
              "'홀'"
            ],
            "application/vnd.google.colaboratory.intrinsic+json": {
              "type": "string"
            }
          },
          "metadata": {},
          "execution_count": 16
        }
      ]
    },
    {
      "cell_type": "code",
      "source": [
        "string=\"PYTHON\""
      ],
      "metadata": {
        "id": "6H7n6ekwPc2l"
      },
      "execution_count": 17,
      "outputs": []
    },
    {
      "cell_type": "code",
      "source": [
        "#4\n",
        "print(string[-1],string[-2],string[-3],string[-4],string[-5],string[-6])"
      ],
      "metadata": {
        "colab": {
          "base_uri": "https://localhost:8080/"
        },
        "id": "auq643JNPw6j",
        "outputId": "a5edf732-2080-494c-a4c8-be8c8cb9af8f"
      },
      "execution_count": 21,
      "outputs": [
        {
          "output_type": "stream",
          "name": "stdout",
          "text": [
            "N O H T Y P\n"
          ]
        }
      ]
    },
    {
      "cell_type": "code",
      "source": [
        "#5\n",
        "movie_rank=['닥터 스트레인지','스플릿','럭키','베트맨']"
      ],
      "metadata": {
        "id": "cd-FbEETQi3B"
      },
      "execution_count": 35,
      "outputs": []
    },
    {
      "cell_type": "code",
      "source": [
        "movie_rank.insert(1,\"슈퍼맨\")"
      ],
      "metadata": {
        "id": "BfpUHHJATEI9"
      },
      "execution_count": 36,
      "outputs": []
    },
    {
      "cell_type": "code",
      "source": [
        "movie_rank"
      ],
      "metadata": {
        "colab": {
          "base_uri": "https://localhost:8080/"
        },
        "id": "GDfpIMcoTNKt",
        "outputId": "8d684b78-4902-4263-9c3e-e857ae668be2"
      },
      "execution_count": 37,
      "outputs": [
        {
          "output_type": "execute_result",
          "data": {
            "text/plain": [
              "['닥터 스트레인지', '슈퍼맨', '스플릿', '럭키', '베트맨']"
            ]
          },
          "metadata": {},
          "execution_count": 37
        }
      ]
    },
    {
      "cell_type": "code",
      "source": [
        "6.\n",
        "nums=[1,2,3,4,5,6,7,8,9,10]\n",
        "set(range(1,10,2))"
      ],
      "metadata": {
        "colab": {
          "base_uri": "https://localhost:8080/"
        },
        "id": "LQ4tRojGRgpW",
        "outputId": "40b9917b-cfbd-4133-f1f9-b67485d90b7e"
      },
      "execution_count": 75,
      "outputs": [
        {
          "output_type": "execute_result",
          "data": {
            "text/plain": [
              "{1, 3, 5, 7, 9}"
            ]
          },
          "metadata": {},
          "execution_count": 75
        }
      ]
    },
    {
      "cell_type": "code",
      "source": [
        "#7.\n",
        "data=[2,4,3,1,5,10,9]\n",
        "sorted(data)"
      ],
      "metadata": {
        "colab": {
          "base_uri": "https://localhost:8080/"
        },
        "id": "exrfZAUBT7BZ",
        "outputId": "ec8d6437-6dbc-4a97-8aa1-b35c8b12bc23"
      },
      "execution_count": 63,
      "outputs": [
        {
          "output_type": "execute_result",
          "data": {
            "text/plain": [
              "[1, 2, 3, 4, 5, 9, 10]"
            ]
          },
          "metadata": {},
          "execution_count": 63
        }
      ]
    },
    {
      "cell_type": "code",
      "source": [
        "#8\n",
        "name1=\"김민수\"\n",
        "age1=10\n",
        "name2=\"이철희\"\n",
        "age2=13\n"
      ],
      "metadata": {
        "id": "FkyjbCrjVEVe"
      },
      "execution_count": 64,
      "outputs": []
    },
    {
      "cell_type": "code",
      "source": [
        "s=\"이름:{},나이:{},이름:{},나이:{}\""
      ],
      "metadata": {
        "id": "2itpqCeaYofv"
      },
      "execution_count": 71,
      "outputs": []
    },
    {
      "cell_type": "code",
      "source": [
        "s.format(name1,age1,name2,age2)"
      ],
      "metadata": {
        "colab": {
          "base_uri": "https://localhost:8080/",
          "height": 35
        },
        "id": "at8iFZtGYwza",
        "outputId": "3fbb4e10-07ed-477b-c830-05e57c50ef32"
      },
      "execution_count": 72,
      "outputs": [
        {
          "output_type": "execute_result",
          "data": {
            "text/plain": [
              "'이름:김민수,나이:10,이름:이철희,나이:13'"
            ],
            "application/vnd.google.colaboratory.intrinsic+json": {
              "type": "string"
            }
          },
          "metadata": {},
          "execution_count": 72
        }
      ]
    },
    {
      "cell_type": "code",
      "source": [
        ""
      ],
      "metadata": {
        "id": "_M71_54TZjuw"
      },
      "execution_count": null,
      "outputs": []
    }
  ]
}